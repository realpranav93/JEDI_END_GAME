{
  "nbformat": 4,
  "nbformat_minor": 0,
  "metadata": {
    "colab": {
      "name": "JEDI_END_S3.ipynb",
      "provenance": [],
      "collapsed_sections": [],
      "authorship_tag": "ABX9TyPQQ2ghsBDYFbdqVCKbysiv",
      "include_colab_link": true
    },
    "kernelspec": {
      "name": "python3",
      "display_name": "Python 3"
    }
  },
  "cells": [
    {
      "cell_type": "markdown",
      "metadata": {
        "id": "view-in-github",
        "colab_type": "text"
      },
      "source": [
        "<a href=\"https://colab.research.google.com/github/realpranav93/JEDI_END_GAME/blob/main/S3/JEDI_END_S3.ipynb\" target=\"_parent\"><img src=\"https://colab.research.google.com/assets/colab-badge.svg\" alt=\"Open In Colab\"/></a>"
      ]
    },
    {
      "cell_type": "code",
      "metadata": {
        "id": "dplVxTUxSG3H"
      },
      "source": [
        "import math\n",
        "from functools import reduce\n",
        "import random\n",
        "from functools import partial\n",
        "import string\n",
        "import re"
      ],
      "execution_count": 42,
      "outputs": []
    },
    {
      "cell_type": "markdown",
      "metadata": {
        "id": "U7mBL2fZQ2o7"
      },
      "source": [
        "## 1. Write a function using only list filter lambda that can tell whether a number is a Fibonacci number or not. You can use a pre-calculated list/dict to store fab numbers till 10000 "
      ]
    },
    {
      "cell_type": "code",
      "metadata": {
        "id": "Z3iU7HTbQxPi",
        "outputId": "b91fae9f-bcb3-4144-d563-37118be64d7f",
        "colab": {
          "base_uri": "https://localhost:8080/"
        }
      },
      "source": [
        "fib_list = [0, 1, 1, 2, 3, 5, 8, 13, 21, 34, 55, 89, 144, 233, 377, 610, 987, 1597, 2584, 4181, 6765, 10946]\n",
        "fib_check = lambda x : True if x in fib_list else False\n",
        "fib_check(13), fib_check(99)"
      ],
      "execution_count": null,
      "outputs": [
        {
          "output_type": "execute_result",
          "data": {
            "text/plain": [
              "(True, False)"
            ]
          },
          "metadata": {
            "tags": []
          },
          "execution_count": 7
        }
      ]
    },
    {
      "cell_type": "markdown",
      "metadata": {
        "id": "Y85ZU323RRvt"
      },
      "source": [
        "## 2. Using list comprehension (and zip/lambda/etc if required) write five different expressions that:\n",
        "a. add 2 iterables a and b such that a is even and b is odd"
      ]
    },
    {
      "cell_type": "code",
      "metadata": {
        "id": "tTnAxquCRfPs",
        "outputId": "07b4781b-b164-4325-fafd-d7ec45e67215",
        "colab": {
          "base_uri": "https://localhost:8080/"
        }
      },
      "source": [
        "def even_odd(l1, l2):\n",
        "  return[x + y for x, y in zip(l1, l2) if x % 2 ==0 and y % 2 != 0]\n",
        "even_odd([2],[5])"
      ],
      "execution_count": 32,
      "outputs": [
        {
          "output_type": "execute_result",
          "data": {
            "text/plain": [
              "[7]"
            ]
          },
          "metadata": {
            "tags": []
          },
          "execution_count": 32
        }
      ]
    },
    {
      "cell_type": "markdown",
      "metadata": {
        "id": "QfvXex45VCny"
      },
      "source": [
        " b.strips every vowel from a string provided (tsai>>t s)"
      ]
    },
    {
      "cell_type": "code",
      "metadata": {
        "id": "AFmWQPYDVGuG",
        "outputId": "7ef3893b-f0ef-4e29-c7be-ff6d99c2d588",
        "colab": {
          "base_uri": "https://localhost:8080/",
          "height": 35
        }
      },
      "source": [
        "def strip_vowel_str(str):\n",
        "    vowels = ['a', 'e', 'i', 'o', 'u']\n",
        "    return \"\".join([x for x in str if x not in vowels])\n",
        "strip_vowel_str('Hello World')"
      ],
      "execution_count": 33,
      "outputs": [
        {
          "output_type": "execute_result",
          "data": {
            "application/vnd.google.colaboratory.intrinsic+json": {
              "type": "string"
            },
            "text/plain": [
              "'Hll Wrld'"
            ]
          },
          "metadata": {
            "tags": []
          },
          "execution_count": 33
        }
      ]
    },
    {
      "cell_type": "markdown",
      "metadata": {
        "id": "yvhS5ytWYBBD"
      },
      "source": [
        "c. acts like a ReLU function for a 1D array"
      ]
    },
    {
      "cell_type": "code",
      "metadata": {
        "id": "BYl1wTPIX_qy",
        "outputId": "da274a6e-1b5a-4572-cc97-d482d11a7f72",
        "colab": {
          "base_uri": "https://localhost:8080/"
        }
      },
      "source": [
        "def relu_like_activation(l):\n",
        "    return[0 if x < 0 else x for x in l]\n",
        "relu_like_activation([-1,5,-10])"
      ],
      "execution_count": 37,
      "outputs": [
        {
          "output_type": "execute_result",
          "data": {
            "text/plain": [
              "[0, 5, 0]"
            ]
          },
          "metadata": {
            "tags": []
          },
          "execution_count": 37
        }
      ]
    },
    {
      "cell_type": "markdown",
      "metadata": {
        "id": "lP2pSSZwYor2"
      },
      "source": [
        "d. acts like a sigmoid function for a 1D array"
      ]
    },
    {
      "cell_type": "code",
      "metadata": {
        "id": "paMz_iPRYn2M",
        "outputId": "9fb8cb35-df48-431c-c8fe-a85f9d6e643c",
        "colab": {
          "base_uri": "https://localhost:8080/"
        }
      },
      "source": [
        "def sigmoid_activation(l):\n",
        "    return[round(1/(1+math.exp(-x)),2) for x in l]\n",
        "sigmoid_activation([1,2,3])"
      ],
      "execution_count": 39,
      "outputs": [
        {
          "output_type": "execute_result",
          "data": {
            "text/plain": [
              "[0.73, 0.88, 0.95]"
            ]
          },
          "metadata": {
            "tags": []
          },
          "execution_count": 39
        }
      ]
    },
    {
      "cell_type": "markdown",
      "metadata": {
        "id": "tcKUCtw0Yzx5"
      },
      "source": [
        "e. takes a small character string and shifts all characters by 5 (handle boundary conditions) tsai>>yxfn"
      ]
    },
    {
      "cell_type": "code",
      "metadata": {
        "id": "beXuevV6ZAic",
        "outputId": "eebf818e-ecd1-4808-9cb0-40e823138c85",
        "colab": {
          "base_uri": "https://localhost:8080/",
          "height": 35
        }
      },
      "source": [
        "def shift_5_char(str):\n",
        "    str = str.lower()\n",
        "    return \"\".join([chr(ord(x)+5) if (ord(x)+5) <=122 else chr(ord(x)+5-122+96) for x in str])\n",
        "shift_5_char('hello world')"
      ],
      "execution_count": 40,
      "outputs": [
        {
          "output_type": "execute_result",
          "data": {
            "application/vnd.google.colaboratory.intrinsic+json": {
              "type": "string"
            },
            "text/plain": [
              "'mjqqt%btwqi'"
            ]
          },
          "metadata": {
            "tags": []
          },
          "execution_count": 40
        }
      ]
    },
    {
      "cell_type": "markdown",
      "metadata": {
        "id": "IHs-4LCqZHmv"
      },
      "source": [
        "## 3. A list comprehension expression that takes a ~200 word paragraph (write your own paragraph to check), and checks whether it has any of the swear words mentioned in https://github.com/RobertJGabriel/Google-profanity-words/blob/master/list.txt "
      ]
    },
    {
      "cell_type": "code",
      "metadata": {
        "id": "SoBiFTu9ZatK",
        "outputId": "28f7f6ae-5fb0-49be-f9f3-2ea07c0688c1",
        "colab": {
          "base_uri": "https://localhost:8080/"
        }
      },
      "source": [
        "import urllib\n",
        "def profane_filter(strn):\n",
        "  import urllib\n",
        "  profane_word_url = \"https://raw.githubusercontent.com/RobertJGabriel/Google-profanity-words/master/list.txt\"\n",
        "  file = urllib.request.urlopen(profane_word_url)\n",
        "  decoded_line = []\n",
        "  for line in file:\n",
        "      decoded_line.append(line.decode(\"utf-8\").strip('\\n'))\n",
        "  str = re.findall(r'\\w+', strn)\n",
        "  return [i for i in str if i in decoded_line]\n",
        "\n",
        "txt = 'nob person'\n",
        "profane_filter(txt)"
      ],
      "execution_count": 77,
      "outputs": [
        {
          "output_type": "execute_result",
          "data": {
            "text/plain": [
              "['nob']"
            ]
          },
          "metadata": {
            "tags": []
          },
          "execution_count": 77
        }
      ]
    },
    {
      "cell_type": "markdown",
      "metadata": {
        "id": "u7P3qd4ujykW"
      },
      "source": [
        "## Using reduce functions: PTS:100\n",
        "1. add only even numbers in a list\n",
        "2. find the biggest character in a string (printable ascii characters)\n",
        "3. adds every 3rd number in a list"
      ]
    },
    {
      "cell_type": "code",
      "metadata": {
        "id": "jidI48ggj7Hz",
        "outputId": "b6239617-d8ed-42e8-c459-6596bfe4d8c6",
        "colab": {
          "base_uri": "https://localhost:8080/"
        }
      },
      "source": [
        "def add_even_num(l):\n",
        "    sum = reduce(lambda a, b: a + b, filter(lambda a: (a % 2 == 0), l))\n",
        "    return sum\n",
        "\n",
        "# Using reduce, lambda etc the biggest ascii character in a given string must be found\n",
        "def big_char_str(str):\n",
        "    return reduce(lambda a, b: a if ord(a) > ord(b) else b, str)\n",
        "\n",
        "\n",
        "# Using reduce, lambda function every third number must be added in a list\n",
        "def add_third_num(l):\n",
        "    add_third_number = reduce(lambda a, b: a + b, l[2::3])\n",
        "    return (add_third_number)\n",
        "\n",
        "add_even_num([1,2,4]),big_char_str('hello'),add_third_num([1,2,3,4,5,6])\n"
      ],
      "execution_count": 109,
      "outputs": [
        {
          "output_type": "execute_result",
          "data": {
            "text/plain": [
              "(6, 'o', 9)"
            ]
          },
          "metadata": {
            "tags": []
          },
          "execution_count": 109
        }
      ]
    },
    {
      "cell_type": "markdown",
      "metadata": {
        "id": "zCGsNoS3mLR1"
      },
      "source": [
        "## Using randint, random.choice and list comprehensions, write an expression that generates 15 random KADDAADDDD number plates, where KA is fixed, D stands for a digit, and A stands for Capital alphabets. 10<<DD<<99 & 1000<<DDDD<<9999"
      ]
    },
    {
      "cell_type": "code",
      "metadata": {
        "id": "lwR0vO6gkESw",
        "outputId": "fb609b23-f2cc-4822-814e-be3445dfc2c1",
        "colab": {
          "base_uri": "https://localhost:8080/"
        }
      },
      "source": [
        "Alphabet = ['A', 'B', 'C', 'D', 'E', 'F', 'G', 'H', 'I', 'J', 'K', 'L', 'M', 'N', 'O', 'P', 'Q', 'R', 'S', 'T', 'U', 'V', 'W', 'X', 'Y','Z']\n",
        "def num_plate():\n",
        "    return [('KA' + str(random.randint(10, 99)) + str(random.choice(Alphabet)) + str(random.choice(Alphabet)) + str(random.randint(1000, 9999))) for _ in range(15)]\n",
        "num_plate()"
      ],
      "execution_count": 100,
      "outputs": [
        {
          "output_type": "execute_result",
          "data": {
            "text/plain": [
              "['KA72KE1914',\n",
              " 'KA70JR7245',\n",
              " 'KA54SK5905',\n",
              " 'KA29XA4868',\n",
              " 'KA28KI5167',\n",
              " 'KA78UI2091',\n",
              " 'KA43DY7092',\n",
              " 'KA82QZ3076',\n",
              " 'KA77KS7179',\n",
              " 'KA92FM9107',\n",
              " 'KA28KR8057',\n",
              " 'KA21UX4340',\n",
              " 'KA37HK3892',\n",
              " 'KA97VS3650',\n",
              " 'KA30GP1417']"
            ]
          },
          "metadata": {
            "tags": []
          },
          "execution_count": 100
        }
      ]
    },
    {
      "cell_type": "markdown",
      "metadata": {
        "id": "lAJyhYlPo62K"
      },
      "source": [
        "## Write the above again from scratch where KA can be changed to DL, and 1000/9999 ranges can be provided. "
      ]
    },
    {
      "cell_type": "code",
      "metadata": {
        "id": "lGKO-cpamkIc",
        "outputId": "9af3943d-723e-4385-93e4-3dff3b9be9b9",
        "colab": {
          "base_uri": "https://localhost:8080/"
        }
      },
      "source": [
        "def num_plate_new(state,range_min = 1000 ,range_max = 9999):\n",
        "    return [(state + str(random.randint(10, 99)) + str(random.choice(Alphabet)) + str(random.choice(Alphabet)) + str(random.randint(range_min, range_max))) for _ in range(15)]\n",
        "num_plate_new('DL')"
      ],
      "execution_count": 105,
      "outputs": [
        {
          "output_type": "execute_result",
          "data": {
            "text/plain": [
              "['DL87QH2430',\n",
              " 'DL97JL8362',\n",
              " 'DL75PD3834',\n",
              " 'DL32QB7238',\n",
              " 'DL46HY2997',\n",
              " 'DL37IW7924',\n",
              " 'DL13EG3153',\n",
              " 'DL98YW6342',\n",
              " 'DL13GM6744',\n",
              " 'DL81ZN8950',\n",
              " 'DL54JZ6268',\n",
              " 'DL11CV2817',\n",
              " 'DL39ZX2815',\n",
              " 'DL15EX2016',\n",
              " 'DL69IF3279']"
            ]
          },
          "metadata": {
            "tags": []
          },
          "execution_count": 105
        }
      ]
    }
  ]
}